{
 "cells": [
  {
   "cell_type": "code",
   "execution_count": 549,
   "metadata": {},
   "outputs": [],
   "source": [
    "import numpy as np\n",
    "import itertools"
   ]
  },
  {
   "cell_type": "code",
   "execution_count": 640,
   "metadata": {},
   "outputs": [],
   "source": [
    "def make_table(f_ab_s, ns, schemes):\n",
    "    \"\"\"For each function f with associated bounds (a, b), and each value\n",
    "    of n and each scheme, calculate the absolute and relative error of\n",
    "    numerical integration and print out one line of a table. This\n",
    "    function doesn't need to return anything, just print. Each\n",
    "    function and bounds will be a tuple (f, a, b), so the argument\n",
    "    f_ab_s is a list of tuples.\n",
    "\n",
    "    Hint: use print() with the format string\n",
    "    \"%s,%.2f,%.2f,%d,%s,%.4g,%.4g,%.4g\". Hint 2: consider itertools.\n",
    "\n",
    "    >>> make_table([(\"x**2\", 0, 1), (\"np.sin(x)\", 0, 1)], [10, 100], ['left', 'midpoint'])\n",
    "    x**2,0.00,1.00,10,left,0.3333,0.04833,0.145\n",
    "    x**2,0.00,1.00,10,midpoint,0.3333,0.0008333,0.0025\n",
    "    x**2,0.00,1.00,100,left,0.3333,0.004983,0.01495\n",
    "    x**2,0.00,1.00,100,midpoint,0.3333,8.333e-06,2.5e-05\n",
    "    np.sin(x),0.00,1.00,10,left,0.4597,0.04246,0.09236\n",
    "    np.sin(x),0.00,1.00,10,midpoint,0.4597,0.0001916,0.0004168\n",
    "    np.sin(x),0.00,1.00,100,left,0.4597,0.004211,0.009161\n",
    "    np.sin(x),0.00,1.00,100,midpoint,0.4597,1.915e-06,4.167e-06\n",
    "    \n",
    "    \"\"\"\n",
    "    \n",
    "    # STUDENTS ADD CODE FROM HERE TO END OF FUNCTION\n",
    "    for (fstr, a, b), n, scheme in itertools.product(f_ab_s, ns, schemes):\n",
    "        error = numint_err(fstr, a, b, n, scheme)\n",
    "        print(f\"{fstr:s},{a:0.2f},{b:0.2f},{n:d},{scheme:s},{error[0]:.4g},{error[1]:0.4g},{error[2]:0.4g}\")\n",
    "        "
   ]
  },
  {
   "cell_type": "code",
   "execution_count": 641,
   "metadata": {},
   "outputs": [
    {
     "name": "stdout",
     "output_type": "stream",
     "text": [
      "x**2,0.00,1.00,10,left,0.3333,0.0535,0.1605\n",
      "x**2,0.00,1.00,10,midpoint,0.3333,0.001029,0.003086\n",
      "x**2,0.00,1.00,100,left,0.3333,0.005033,0.0151\n",
      "x**2,0.00,1.00,100,midpoint,0.3333,8.503e-06,2.551e-05\n",
      "np.sin(x),0.00,1.00,10,left,0.4597,0.04722,0.1027\n",
      "np.sin(x),0.00,1.00,10,midpoint,0.4597,0.0002366,0.0005146\n",
      "np.sin(x),0.00,1.00,100,left,0.4597,0.004254,0.009253\n",
      "np.sin(x),0.00,1.00,100,midpoint,0.4597,1.954e-06,4.251e-06\n"
     ]
    }
   ],
   "source": [
    " make_table([(\"x**2\", 0, 1), (\"np.sin(x)\", 0, 1)], [10, 100], ['left', 'midpoint'])"
   ]
  },
  {
   "cell_type": "code",
   "execution_count": 644,
   "metadata": {},
   "outputs": [
    {
     "name": "stdout",
     "output_type": "stream",
     "text": [
      "-0.3333 0.0535 0.1605\n"
     ]
    }
   ],
   "source": [
    "print(\"%.4f %.4f %.4f\" % numint_err(\"-x**2\", 0, 1, 10, 'left'))"
   ]
  },
  {
   "cell_type": "code",
   "execution_count": 643,
   "metadata": {},
   "outputs": [],
   "source": [
    "def numint_err(fstr, a, b, n, scheme):\n",
    "    \"\"\"For a given function fstr and bounds a, b, evaluate the error\n",
    "    achieved by numerical integration on n points with the given\n",
    "    scheme. Return the true value (given by true_integral),\n",
    "    absolute error, and relative error, as a tuple.\n",
    "\n",
    "    Notice that the absolute error and relative error must both be\n",
    "    positive.\n",
    "\n",
    "    Notice that the relative error will be infinity when the true\n",
    "    value is zero. None of the examples in our assignment will have a\n",
    "    true value of zero.\n",
    "\n",
    "    >>> print(\"%.4f %.4f %.4f\" % numint_err(\"x**2\", 0, 1, 10, 'left'))\n",
    "    0.3333 0.0483 0.1450\n",
    "    >>> print(\"%.4f %.4f %.4f\" % numint_err(\"-x**2\", 0, 1, 10, 'left'))\n",
    "    -0.3333 0.0483 0.1450\n",
    "    >>> print(\"%.4f %.4f %.4f\" % numint_err(\"x**2\", 0, 1, 10, 'left'))\n",
    "    0.3333 0.0483 0.1450\n",
    "\n",
    "    \"\"\"\n",
    "    f = eval(\"lambda x: \" + fstr) # f is a Python function\n",
    "    A = true_integral(fstr, a, b)\n",
    "    # STUDENTS ADD CODE FROM HERE TO END OF FUNCTION\n",
    "    integ = numint(f, a,b, n, scheme)\n",
    "    \n",
    "    try:\n",
    "        return(A,abs(A-integ), abs((A-integ)/A ))\n",
    "    except ZeroDivisionError:\n",
    "        print(\"Curve defined has 0 area - cannot calculate relative error\")"
   ]
  },
  {
   "cell_type": "code",
   "execution_count": 646,
   "metadata": {},
   "outputs": [
    {
     "data": {
      "text/plain": [
       "0.45544"
      ]
     },
     "execution_count": 646,
     "metadata": {},
     "output_type": "execute_result"
    }
   ],
   "source": [
    " round(numint(np.sin, 0, 1, 100, 'left'), 5)"
   ]
  },
  {
   "cell_type": "code",
   "execution_count": 647,
   "metadata": {},
   "outputs": [
    {
     "data": {
      "text/plain": [
       "1.0"
      ]
     },
     "execution_count": 647,
     "metadata": {},
     "output_type": "execute_result"
    }
   ],
   "source": [
    "round(numint(lambda x: np.ones_like(x), 0, 1, 100, 'left'), 5)"
   ]
  },
  {
   "cell_type": "code",
   "execution_count": 648,
   "metadata": {},
   "outputs": [
    {
     "data": {
      "text/plain": [
       "4.64722"
      ]
     },
     "execution_count": 648,
     "metadata": {},
     "output_type": "execute_result"
    }
   ],
   "source": [
    "round(numint(np.exp, 1, 2, 100, 'left'), 5)"
   ]
  },
  {
   "cell_type": "code",
   "execution_count": 649,
   "metadata": {},
   "outputs": [
    {
     "data": {
      "text/plain": [
       "4.67075"
      ]
     },
     "execution_count": 649,
     "metadata": {},
     "output_type": "execute_result"
    }
   ],
   "source": [
    "round(numint(np.exp, 1, 2, 100, 'midpoint'), 5)"
   ]
  },
  {
   "cell_type": "code",
   "execution_count": 650,
   "metadata": {},
   "outputs": [
    {
     "data": {
      "text/plain": [
       "0.4597"
      ]
     },
     "execution_count": 650,
     "metadata": {},
     "output_type": "execute_result"
    }
   ],
   "source": [
    " round(numint(np.sin, 0, 1, 100, 'midpoint'), 5)"
   ]
  },
  {
   "cell_type": "code",
   "execution_count": 651,
   "metadata": {},
   "outputs": [
    {
     "data": {
      "text/plain": [
       "4.6944"
      ]
     },
     "execution_count": 651,
     "metadata": {},
     "output_type": "execute_result"
    }
   ],
   "source": [
    "round(numint(np.exp, 1, 2, 100, 'right'), 5)"
   ]
  },
  {
   "cell_type": "code",
   "execution_count": null,
   "metadata": {},
   "outputs": [],
   "source": []
  }
 ],
 "metadata": {
  "kernelspec": {
   "display_name": "Python 3",
   "language": "python",
   "name": "python3"
  },
  "language_info": {
   "codemirror_mode": {
    "name": "ipython",
    "version": 3
   },
   "file_extension": ".py",
   "mimetype": "text/x-python",
   "name": "python",
   "nbconvert_exporter": "python",
   "pygments_lexer": "ipython3",
   "version": "3.6.5"
  }
 },
 "nbformat": 4,
 "nbformat_minor": 2
}
