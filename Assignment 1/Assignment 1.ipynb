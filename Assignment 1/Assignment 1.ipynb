{
 "cells": [
  {
   "cell_type": "code",
   "execution_count": 112,
   "metadata": {},
   "outputs": [],
   "source": [
    "import numpy as np\n",
    "import itertools\n",
    "import math\n",
    "import time"
   ]
  },
  {
   "cell_type": "code",
   "execution_count": 640,
   "metadata": {},
   "outputs": [],
   "source": [
    "def make_table(f_ab_s, ns, schemes):\n",
    "    \"\"\"For each function f with associated bounds (a, b), and each value\n",
    "    of n and each scheme, calculate the absolute and relative error of\n",
    "    numerical integration and print out one line of a table. This\n",
    "    function doesn't need to return anything, just print. Each\n",
    "    function and bounds will be a tuple (f, a, b), so the argument\n",
    "    f_ab_s is a list of tuples.\n",
    "\n",
    "    Hint: use print() with the format string\n",
    "    \"%s,%.2f,%.2f,%d,%s,%.4g,%.4g,%.4g\". Hint 2: consider itertools.\n",
    "\n",
    "    >>> make_table([(\"x**2\", 0, 1), (\"np.sin(x)\", 0, 1)], [10, 100], ['left', 'midpoint'])\n",
    "    x**2,0.00,1.00,10,left,0.3333,0.04833,0.145\n",
    "    x**2,0.00,1.00,10,midpoint,0.3333,0.0008333,0.0025\n",
    "    x**2,0.00,1.00,100,left,0.3333,0.004983,0.01495\n",
    "    x**2,0.00,1.00,100,midpoint,0.3333,8.333e-06,2.5e-05\n",
    "    np.sin(x),0.00,1.00,10,left,0.4597,0.04246,0.09236\n",
    "    np.sin(x),0.00,1.00,10,midpoint,0.4597,0.0001916,0.0004168\n",
    "    np.sin(x),0.00,1.00,100,left,0.4597,0.004211,0.009161\n",
    "    np.sin(x),0.00,1.00,100,midpoint,0.4597,1.915e-06,4.167e-06\n",
    "    \n",
    "    \"\"\"\n",
    "    \n",
    "    # STUDENTS ADD CODE FROM HERE TO END OF FUNCTION\n",
    "    for (fstr, a, b), n, scheme in itertools.product(f_ab_s, ns, schemes):\n",
    "        error = numint_err(fstr, a, b, n, scheme)\n",
    "        print(f\"{fstr:s},{a:0.2f},{b:0.2f},{n:d},{scheme:s},{error[0]:.4g},{error[1]:0.4g},{error[2]:0.4g}\")\n",
    "        "
   ]
  },
  {
   "cell_type": "code",
   "execution_count": 641,
   "metadata": {},
   "outputs": [
    {
     "name": "stdout",
     "output_type": "stream",
     "text": [
      "x**2,0.00,1.00,10,left,0.3333,0.0535,0.1605\n",
      "x**2,0.00,1.00,10,midpoint,0.3333,0.001029,0.003086\n",
      "x**2,0.00,1.00,100,left,0.3333,0.005033,0.0151\n",
      "x**2,0.00,1.00,100,midpoint,0.3333,8.503e-06,2.551e-05\n",
      "np.sin(x),0.00,1.00,10,left,0.4597,0.04722,0.1027\n",
      "np.sin(x),0.00,1.00,10,midpoint,0.4597,0.0002366,0.0005146\n",
      "np.sin(x),0.00,1.00,100,left,0.4597,0.004254,0.009253\n",
      "np.sin(x),0.00,1.00,100,midpoint,0.4597,1.954e-06,4.251e-06\n"
     ]
    }
   ],
   "source": [
    " make_table([(\"x**2\", 0, 1), (\"np.sin(x)\", 0, 1)], [10, 100], ['left', 'midpoint'])"
   ]
  },
  {
   "cell_type": "code",
   "execution_count": 644,
   "metadata": {},
   "outputs": [
    {
     "name": "stdout",
     "output_type": "stream",
     "text": [
      "-0.3333 0.0535 0.1605\n"
     ]
    }
   ],
   "source": [
    "print(\"%.4f %.4f %.4f\" % numint_err(\"-x**2\", 0, 1, 10, 'left'))"
   ]
  },
  {
   "cell_type": "code",
   "execution_count": 643,
   "metadata": {},
   "outputs": [],
   "source": [
    "def numint_err(fstr, a, b, n, scheme):\n",
    "    \"\"\"For a given function fstr and bounds a, b, evaluate the error\n",
    "    achieved by numerical integration on n points with the given\n",
    "    scheme. Return the true value (given by true_integral),\n",
    "    absolute error, and relative error, as a tuple.\n",
    "\n",
    "    Notice that the absolute error and relative error must both be\n",
    "    positive.\n",
    "\n",
    "    Notice that the relative error will be infinity when the true\n",
    "    value is zero. None of the examples in our assignment will have a\n",
    "    true value of zero.\n",
    "\n",
    "    >>> print(\"%.4f %.4f %.4f\" % numint_err(\"x**2\", 0, 1, 10, 'left'))\n",
    "    0.3333 0.0483 0.1450\n",
    "    >>> print(\"%.4f %.4f %.4f\" % numint_err(\"-x**2\", 0, 1, 10, 'left'))\n",
    "    -0.3333 0.0483 0.1450\n",
    "    >>> print(\"%.4f %.4f %.4f\" % numint_err(\"x**2\", 0, 1, 10, 'left'))\n",
    "    0.3333 0.0483 0.1450\n",
    "\n",
    "    \"\"\"\n",
    "    f = eval(\"lambda x: \" + fstr) # f is a Python function\n",
    "    A = true_integral(fstr, a, b)\n",
    "    # STUDENTS ADD CODE FROM HERE TO END OF FUNCTION\n",
    "    integ = numint(f, a,b, n, scheme)\n",
    "    \n",
    "    try:\n",
    "        return(A,abs(A-integ), abs((A-integ)/A ))\n",
    "    except ZeroDivisionError:\n",
    "        print(\"Curve defined has 0 area - cannot calculate relative error\")"
   ]
  },
  {
   "cell_type": "code",
   "execution_count": 1,
   "metadata": {},
   "outputs": [],
   "source": [
    "def numint(f, a, b, n, scheme=\"left\"):\n",
    "    \"\"\"Numerical integration. For a function f, calculate the definite\n",
    "    integral of f from a to b by approximating with n \"slices\" and the\n",
    "    given scheme. This function should use Numpy, and no for-loop. Eg\n",
    "    np.linspace() will be useful.\n",
    "    \n",
    "    >>> round(numint(np.sin, 0, 1, 100, 'left'), 5)\n",
    "    0.45549\n",
    "    >>> round(numint(lambda x: np.ones_like(x), 0, 1, 100, 'left'), 5)\n",
    "    1.0\n",
    "    >>> round(numint(np.exp, 1, 2, 100, 'left'), 5)\n",
    "    4.64746\n",
    "    >>> round(numint(np.exp, 1, 2, 100, 'midpoint'), 5)\n",
    "    4.67075\n",
    "    >>> round(numint(np.sin, 0, 1, 100, 'midpoint'), 5)\n",
    "    0.4597\n",
    "    >>> round(numint(np.exp, 1, 2, 100, 'right'), 5)\n",
    "    4.69417\n",
    "\n",
    "    \"\"\"\n",
    "    # STUDENTS ADD CODE FROM HERE TO END OF FUNCTION\n",
    "    xrange = np.linspace(a,b,n) # Create the linear range for values to be used for x\n",
    "    step = abs(a-xrange[1])     # Determine the step size in the linear space\n",
    "\n",
    "    if scheme =='left':        \n",
    "        return (f(xrange)*step)[:-1].sum()     # Multiply f(x) by the step size to give the area per slice and sum it together excluding the final point as this is the left rectangular scheme\n",
    "    \n",
    "    elif scheme == 'midpoint':\n",
    "        xrange2 = np.linspace(a+step,b+step,n) # Create a new linear space with the step size offset\n",
    "        midpoint = (xrange+xrange2)/2          # Sum the two ranges together elementwise and divide by two to get the mean value\n",
    "        return (f(midpoint)*step)[:-1].sum()   # Multiply f(x) by the step size to give the area per slice and sum it together\n",
    "    \n",
    "\n",
    "    elif scheme == 'right': \n",
    "        return (f(xrange)*step)[1:].sum()       #  Multiply f(x) by the step size to give the area per slice and sum it together excluding the first point as this is the right rectangular scheme"
   ]
  },
  {
   "cell_type": "code",
   "execution_count": 57,
   "metadata": {},
   "outputs": [],
   "source": [
    "def numint(f, a, b, n, scheme=\"left\"):\n",
    "    \"\"\"Numerical integration. For a function f, calculate the definite\n",
    "    integral of f from a to b by approximating with n \"slices\" and the\n",
    "    given scheme. This function should use Numpy, and no for-loop. Eg\n",
    "    np.linspace() will be useful.\n",
    "    \n",
    "    >>> round(numint(np.sin, 0, 1, 100, 'left'), 5)\n",
    "    0.45549\n",
    "    >>> round(numint(lambda x: np.ones_like(x), 0, 1, 100, 'left'), 5)\n",
    "    1.0\n",
    "    >>> round(numint(np.exp, 1, 2, 100, 'left'), 5)\n",
    "    4.64746\n",
    "    >>> round(numint(np.exp, 1, 2, 100, 'midpoint'), 5)\n",
    "    4.67075\n",
    "    >>> round(numint(np.sin, 0, 1, 100, 'midpoint'), 5)\n",
    "    0.4597\n",
    "    >>> round(numint(np.exp, 1, 2, 100, 'right'), 5)\n",
    "    4.69417\n",
    "\n",
    "    \"\"\"\n",
    "    # STUDENTS ADD CODE FROM HERE TO END OF FUNCTION\n",
    "    step =(b - a) / float(n) \n",
    "    xrange = np.linspace(a,b-step,n) # Create the linear range for values to be used for x\n",
    "    #step = abs(a-xrange[1])     # Determine the step size in the linear space\n",
    "\n",
    "    if scheme =='left':        \n",
    "        return (f(xrange)*step).sum()     # Multiply f(x) by the step size to give the area per slice and sum it together excluding the final point as this is the left rectangular scheme\n",
    "    \n",
    "    elif scheme == 'midpoint':\n",
    "        xrange2 = np.linspace(a+step,b,n) # Create a new linear space with the step size offset\n",
    "        midpoint = (xrange+xrange2)/2          # Sum the two ranges together elementwise and divide by two to get the mean value\n",
    "        return (f(midpoint)*step).sum()   # Multiply f(x) by the step size to give the area per slice and sum it together\n",
    "    \n",
    "\n",
    "    elif scheme == 'right': \n",
    "        xrange_right = np.linspace(a+step,b,n)\n",
    "        return (f(xrange_right)*step).sum()       #  Multiply f(x) by the step size to give the area per slice and sum it together excluding the first point as this is the right rectangular scheme\n"
   ]
  },
  {
   "cell_type": "code",
   "execution_count": 58,
   "metadata": {},
   "outputs": [
    {
     "data": {
      "text/plain": [
       "4.69417"
      ]
     },
     "execution_count": 58,
     "metadata": {},
     "output_type": "execute_result"
    }
   ],
   "source": [
    "round(numint(np.exp, 1, 2, 100, 'right'), 5)"
   ]
  },
  {
   "cell_type": "code",
   "execution_count": 59,
   "metadata": {},
   "outputs": [
    {
     "data": {
      "text/plain": [
       "0.45549"
      ]
     },
     "execution_count": 59,
     "metadata": {},
     "output_type": "execute_result"
    }
   ],
   "source": [
    "round(numint(np.sin, 0, 1, 100, 'left'), 5)"
   ]
  },
  {
   "cell_type": "code",
   "execution_count": 216,
   "metadata": {},
   "outputs": [],
   "source": [
    "def numint_py(f, a, b, n):\n",
    "    \"\"\"Numerical integration. For a function f, calculate the definite\n",
    "    integral of f from a to b by approximating with n \"slices\" and the\n",
    "    \"left\" scheme. This function must use pure Python, no Numpy.\n",
    "\n",
    "    >>> round(numint_py(math.sin, 0, 1, 100), 5)\n",
    "    0.45549\n",
    "    >>> round(numint_py(lambda x: x, 0, 1, 100000), 5)\n",
    "    0.5\n",
    "    >>> round(numint_py(lambda x: x, 0, 1, 6), 5)\n",
    "    0.41667\n",
    "    >>> round(numint_py(lambda x: 1, 0, 1, 100), 5)\n",
    "    1.0\n",
    "    >>> round(numint_py(lambda x: -1, 0, 1, 100), 5)\n",
    "    -1.0\n",
    "    >>> round(numint_py(math.exp, 1, 2, 100), 5)\n",
    "    4.64746\n",
    "\n",
    "    \"\"\"\n",
    "    A = 0\n",
    "    w = (b - a) / float(n) # width of one slice\n",
    "    # STUDENTS ADD CODE FROM HERE TO END OF FUNCTION\n",
    "    integral = 0                                  # initialise the intergral variable\n",
    "    x=a                                           # Start at with the initial position of the integral \n",
    "    for i in range(n):                            # For each of slice of the integral except the final slice (following left rectangular scheme)\n",
    "            integral= (f(x)*w)+ integral          # Calculate the area of the new slice and add it to the previous slices\n",
    "            x+=w                                  # Increment x by slice size w\n",
    "    return(integral)\n"
   ]
  },
  {
   "cell_type": "code",
   "execution_count": 217,
   "metadata": {},
   "outputs": [
    {
     "ename": "TypeError",
     "evalue": "'float' object cannot be interpreted as an integer",
     "output_type": "error",
     "traceback": [
      "\u001b[1;31m---------------------------------------------------------------------------\u001b[0m",
      "\u001b[1;31mTypeError\u001b[0m                                 Traceback (most recent call last)",
      "\u001b[1;32m<ipython-input-217-8b6444bb0010>\u001b[0m in \u001b[0;36m<module>\u001b[1;34m()\u001b[0m\n\u001b[1;32m----> 1\u001b[1;33m \u001b[0mround\u001b[0m\u001b[1;33m(\u001b[0m\u001b[0mnumint_py\u001b[0m\u001b[1;33m(\u001b[0m\u001b[0mmath\u001b[0m\u001b[1;33m.\u001b[0m\u001b[0msin\u001b[0m\u001b[1;33m,\u001b[0m \u001b[1;36m0\u001b[0m\u001b[1;33m,\u001b[0m \u001b[1;36m1\u001b[0m\u001b[1;33m,\u001b[0m \u001b[1;36m100\u001b[0m\u001b[1;33m)\u001b[0m\u001b[1;33m,\u001b[0m \u001b[1;36m5\u001b[0m\u001b[1;33m)\u001b[0m\u001b[1;33m\u001b[0m\u001b[0m\n\u001b[0m",
      "\u001b[1;32m<ipython-input-216-1046b36ffcf2>\u001b[0m in \u001b[0;36mnumint_py\u001b[1;34m(f, a, b, n)\u001b[0m\n\u001b[0;32m     23\u001b[0m     \u001b[0mintegral\u001b[0m \u001b[1;33m=\u001b[0m \u001b[1;36m0\u001b[0m                                  \u001b[1;31m# initialise the intergral variable\u001b[0m\u001b[1;33m\u001b[0m\u001b[0m\n\u001b[0;32m     24\u001b[0m     \u001b[0mx\u001b[0m\u001b[1;33m=\u001b[0m\u001b[0ma\u001b[0m                                           \u001b[1;31m# Start at with the initial position of the integral\u001b[0m\u001b[1;33m\u001b[0m\u001b[0m\n\u001b[1;32m---> 25\u001b[1;33m     \u001b[1;32mfor\u001b[0m \u001b[0mi\u001b[0m \u001b[1;32min\u001b[0m \u001b[0mrange\u001b[0m\u001b[1;33m(\u001b[0m\u001b[0mn\u001b[0m\u001b[1;33m-\u001b[0m\u001b[0mw\u001b[0m\u001b[1;33m)\u001b[0m\u001b[1;33m:\u001b[0m                            \u001b[1;31m# For each of slice of the integral except the final slice (following left rectangular scheme)\u001b[0m\u001b[1;33m\u001b[0m\u001b[0m\n\u001b[0m\u001b[0;32m     26\u001b[0m             \u001b[0mintegral\u001b[0m\u001b[1;33m=\u001b[0m \u001b[1;33m(\u001b[0m\u001b[0mf\u001b[0m\u001b[1;33m(\u001b[0m\u001b[0mx\u001b[0m\u001b[1;33m)\u001b[0m\u001b[1;33m*\u001b[0m\u001b[0mw\u001b[0m\u001b[1;33m)\u001b[0m\u001b[1;33m+\u001b[0m \u001b[0mintegral\u001b[0m          \u001b[1;31m# Calculate the area of the new slice and add it to the previous slices\u001b[0m\u001b[1;33m\u001b[0m\u001b[0m\n\u001b[0;32m     27\u001b[0m             \u001b[0mx\u001b[0m\u001b[1;33m+=\u001b[0m\u001b[0mw\u001b[0m                                  \u001b[1;31m# Increment x by slice size w\u001b[0m\u001b[1;33m\u001b[0m\u001b[0m\n",
      "\u001b[1;31mTypeError\u001b[0m: 'float' object cannot be interpreted as an integer"
     ]
    }
   ],
   "source": [
    "round(numint_py(math.sin, 0, 1, 100), 5)"
   ]
  },
  {
   "cell_type": "code",
   "execution_count": 209,
   "metadata": {},
   "outputs": [
    {
     "data": {
      "text/plain": [
       "0.49999"
      ]
     },
     "execution_count": 209,
     "metadata": {},
     "output_type": "execute_result"
    }
   ],
   "source": [
    "round(numint_py(lambda x: x, 0, 1, 100000), 5)"
   ]
  },
  {
   "cell_type": "code",
   "execution_count": 210,
   "metadata": {},
   "outputs": [
    {
     "data": {
      "text/plain": [
       "0.41667"
      ]
     },
     "execution_count": 210,
     "metadata": {},
     "output_type": "execute_result"
    }
   ],
   "source": [
    "round(numint_py(lambda x: x, 0, 1, 6), 5)"
   ]
  },
  {
   "cell_type": "code",
   "execution_count": 211,
   "metadata": {},
   "outputs": [],
   "source": [
    "test = []\n",
    "for i in np.linspace(0,1,6):\n",
    "    test.append(i*0.2)"
   ]
  },
  {
   "cell_type": "code",
   "execution_count": 212,
   "metadata": {},
   "outputs": [
    {
     "data": {
      "text/plain": [
       "1.0"
      ]
     },
     "execution_count": 212,
     "metadata": {},
     "output_type": "execute_result"
    }
   ],
   "source": [
    "round(numint_py(lambda x: 1, 0, 1, 100), 5)"
   ]
  },
  {
   "cell_type": "code",
   "execution_count": 213,
   "metadata": {},
   "outputs": [
    {
     "data": {
      "text/plain": [
       "-1.0"
      ]
     },
     "execution_count": 213,
     "metadata": {},
     "output_type": "execute_result"
    }
   ],
   "source": [
    "round(numint_py(lambda x: -1, 0, 1, 100), 5)"
   ]
  },
  {
   "cell_type": "code",
   "execution_count": 214,
   "metadata": {},
   "outputs": [
    {
     "data": {
      "text/plain": [
       "4.64746"
      ]
     },
     "execution_count": 214,
     "metadata": {},
     "output_type": "execute_result"
    }
   ],
   "source": [
    "round(numint_py(math.exp, 1, 2, 100), 5)"
   ]
  },
  {
   "cell_type": "code",
   "execution_count": 215,
   "metadata": {},
   "outputs": [
    {
     "name": "stdout",
     "output_type": "stream",
     "text": [
      "0.0\n",
      "0.2\n",
      "0.4\n",
      "0.6000000000000001\n",
      "0.8\n",
      "1.0\n"
     ]
    }
   ],
   "source": [
    "for x in np.linspace(0,1,6):\n",
    "    print(x)"
   ]
  },
  {
   "cell_type": "code",
   "execution_count": null,
   "metadata": {},
   "outputs": [],
   "source": []
  }
 ],
 "metadata": {
  "kernelspec": {
   "display_name": "Python 3",
   "language": "python",
   "name": "python3"
  },
  "language_info": {
   "codemirror_mode": {
    "name": "ipython",
    "version": 3
   },
   "file_extension": ".py",
   "mimetype": "text/x-python",
   "name": "python",
   "nbconvert_exporter": "python",
   "pygments_lexer": "ipython3",
   "version": "3.6.5"
  }
 },
 "nbformat": 4,
 "nbformat_minor": 2
}
